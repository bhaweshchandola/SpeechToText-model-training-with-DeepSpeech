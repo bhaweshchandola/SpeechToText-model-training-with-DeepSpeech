{
 "cells": [
  {
   "cell_type": "code",
   "execution_count": 29,
   "metadata": {},
   "outputs": [],
   "source": [
    "import pandas as pd\n"
   ]
  },
  {
   "cell_type": "code",
   "execution_count": 34,
   "metadata": {},
   "outputs": [],
   "source": [
    "df = pd.read_csv(\"train/train.csv\")\n",
    "df1 = pd.read_csv(\"test/test.csv\")\n",
    "df2 = pd.read_csv(\"dev/dev.csv\")"
   ]
  },
  {
   "cell_type": "code",
   "execution_count": 31,
   "metadata": {},
   "outputs": [
    {
     "data": {
      "text/plain": [
       "'/usr/workspace/pykaldi/deepspeech/vietnam/test/waves/VIVOSDEV02/VIVOSDEV02_R106.wav'"
      ]
     },
     "execution_count": 31,
     "metadata": {},
     "output_type": "execute_result"
    }
   ],
   "source": [
    "x = df1[\"File\"].iloc[0]\n",
    "x"
   ]
  },
  {
   "cell_type": "code",
   "execution_count": 19,
   "metadata": {},
   "outputs": [
    {
     "data": {
      "text/plain": [
       "'/usr/workspace/pykaldi/deepspeech/vietnam/test/VIVOSDEV02_R106.wav'"
      ]
     },
     "execution_count": 19,
     "metadata": {},
     "output_type": "execute_result"
    }
   ],
   "source": [
    "\"/\".join(x.split(\"/\")[:-3] + [x.split(\"/\")[-1]])"
   ]
  },
  {
   "cell_type": "code",
   "execution_count": 47,
   "metadata": {},
   "outputs": [],
   "source": [
    "def replace1(x):\n",
    "    return \"/\".join(x.split(\"/\")[:-4] +['dev'] + [x.split(\"/\")[-1]])"
   ]
  },
  {
   "cell_type": "code",
   "execution_count": 22,
   "metadata": {},
   "outputs": [
    {
     "data": {
      "text/plain": [
       "'/usr/workspace/pykaldi/deepspeech/vietnam/test/VIVOSDEV02_R106.wav'"
      ]
     },
     "execution_count": 22,
     "metadata": {},
     "output_type": "execute_result"
    }
   ],
   "source": [
    "replace1(x)"
   ]
  },
  {
   "cell_type": "code",
   "execution_count": 36,
   "metadata": {},
   "outputs": [],
   "source": [
    "df[\"File\"] = df[\"File\"].apply(replace1)"
   ]
  },
  {
   "cell_type": "code",
   "execution_count": 37,
   "metadata": {},
   "outputs": [],
   "source": [
    "df1[\"File\"] = df1[\"File\"].apply(replace1)\n"
   ]
  },
  {
   "cell_type": "code",
   "execution_count": 48,
   "metadata": {},
   "outputs": [],
   "source": [
    "df2[\"File\"] = df2[\"File\"].apply(replace1)"
   ]
  },
  {
   "cell_type": "code",
   "execution_count": 43,
   "metadata": {},
   "outputs": [],
   "source": [
    "x = df2[\"File\"].iloc[0]"
   ]
  },
  {
   "cell_type": "code",
   "execution_count": 51,
   "metadata": {},
   "outputs": [],
   "source": [
    "df2.to_csv(\"dev/dev.csv\", index=False)"
   ]
  },
  {
   "cell_type": "code",
   "execution_count": 50,
   "metadata": {},
   "outputs": [
    {
     "data": {
      "text/plain": [
       "'/usr/workspace/pykaldi/deepspeech/vietnam/dev/VIVOSSPK40_102.wav'"
      ]
     },
     "execution_count": 50,
     "metadata": {},
     "output_type": "execute_result"
    }
   ],
   "source": [
    "df2[\"File\"].iloc[1]"
   ]
  },
  {
   "cell_type": "code",
   "execution_count": 46,
   "metadata": {},
   "outputs": [
    {
     "data": {
      "text/plain": [
       "['',\n",
       " 'usr',\n",
       " 'workspace',\n",
       " 'pykaldi',\n",
       " 'deepspeech',\n",
       " 'vietnam',\n",
       " 'dev',\n",
       " 'VIVOSSPK40_101.wav']"
      ]
     },
     "execution_count": 46,
     "metadata": {},
     "output_type": "execute_result"
    }
   ],
   "source": [
    "x.split(\"/\")[:-4] +['dev'] + [x.split(\"/\")[-1]]"
   ]
  },
  {
   "cell_type": "code",
   "execution_count": 52,
   "metadata": {},
   "outputs": [],
   "source": [
    "train = ['N', 'Ỏ', 'Đ', 'Ă', 'O', 'Ò', 'P', 'Ệ', 'Ể', 'Ự', 'Ố', 'I', 'Ả', 'Ọ', 'S', 'Ơ', 'Ó', ' ', 'Ứ', 'U', 'Ầ', 'Ã', 'Ử', 'À', 'Q', 'Ậ', 'Ẹ', 'Ẩ', 'Ạ', '4', 'Ỉ', 'Ê', 'Ụ', 'D', 'É', 'Ấ', 'Y', 'Ộ', 'Ĩ', 'Ẫ', 'H', 'Ắ', 'Ễ', 'Ẵ', 'Ì', 'Ờ', 'B', 'T', 'Ỡ', 'Ặ', 'C', 'Ị', 'E', 'Õ', ':', 'Ẻ', 'Ô', 'Ữ', 'Ũ', 'Ỳ', 'Ú', 'Ý', 'Ù', 'Ẽ', 'Ằ', 'K', 'Ế', 'Ớ', 'Ợ', 'Ỷ', 'Ồ', 'Ỗ', 'R', 'Ẳ', 'Ổ', 'Á', 'L', 'G', 'Ề', 'Â', 'M', 'Ư', 'Í', 'Ừ', 'Ủ', 'Ở', 'V', 'È', 'A', 'Ỵ', 'X', 'Ỹ']"
   ]
  },
  {
   "cell_type": "code",
   "execution_count": 53,
   "metadata": {},
   "outputs": [],
   "source": [
    "test = ['Ằ', 'Ắ', 'Ê', 'Ô', 'Ễ', 'Ế', 'G', 'À', 'U', 'Ò', 'Ề', 'Ệ', 'Ỡ', 'Ể', 'Ữ', 'Ậ', 'Ẳ', 'N', 'I', 'D', 'Ả', 'Â', 'Ẻ', 'K', 'Ầ', 'Ủ', 'V', 'X', 'Ù', 'H', 'Đ', 'Ộ', 'Ó', 'Ú', 'Ă', 'Ã', 'Á', 'Ỹ', 'Ỳ', 'Ớ', 'Ư', 'Ứ', 'Ồ', 'P', 'L', 'Ỷ', 'Ố', 'R', 'É', 'Ũ', 'Ỉ', 'Ử', 'Ĩ', 'O', 'Ọ', 'Ự', 'Ợ', 'Ặ', 'Ơ', 'T', 'Ì', 'Q', 'Ý', 'Ỗ', 'C', 'Ạ', 'S', 'Ụ', 'M', 'B', 'Ờ', 'Í', 'Õ', 'E', 'Ấ', 'Ở', 'Ẫ', 'A', 'Ẹ', 'Ẩ', 'È', 'Ừ', 'Ẽ', ' ', 'Ổ', 'Y', 'Ỏ', 'Ị']"
   ]
  },
  {
   "cell_type": "code",
   "execution_count": 54,
   "metadata": {},
   "outputs": [],
   "source": [
    "dev = ['Ú', 'Ẵ', 'Ỵ', 'Ỷ', 'Õ', 'Ê', 'Ì', 'È', 'I', 'Ỉ', 'Q', 'Ư', 'V', 'Ổ', 'Ẩ', 'O', 'Ơ', 'R', 'Ó', 'É', 'M', 'Ữ', 'Ỹ', 'Ù', 'D', 'Ằ', 'Ỏ', 'B', 'Â', 'Í', 'Ử', 'Ẳ', 'K', 'Ợ', 'C', 'Ề', 'Ẹ', 'Ậ', 'P', 'H', 'Ỡ', 'X', 'Y', 'Ũ', 'Ự', 'N', 'Ọ', 'Ã', 'L', 'Ố', 'Á', 'Ả', 'Ạ', 'Ở', 'Ị', 'Ĩ', 'Ừ', 'Ô', 'A', 'T', 'À', 'Ờ', 'Ấ', 'Ể', 'Ỳ', 'Đ', 'S', 'Ớ', 'U', 'Ý', 'Ủ', 'Ẻ', 'Ế', 'G', 'Ệ', 'Ễ', 'Ụ', 'Ồ', 'Ắ', 'Ẽ', 'Ò', ' ', 'Ộ', 'Ă', 'E', 'Ỗ', 'Ặ', 'Ẫ', 'Ứ', 'Ầ']"
   ]
  },
  {
   "cell_type": "code",
   "execution_count": 59,
   "metadata": {},
   "outputs": [
    {
     "data": {
      "text/plain": [
       "92"
      ]
     },
     "execution_count": 59,
     "metadata": {},
     "output_type": "execute_result"
    }
   ],
   "source": [
    "len(list(set(train + test + dev)))"
   ]
  },
  {
   "cell_type": "code",
   "execution_count": 57,
   "metadata": {},
   "outputs": [
    {
     "name": "stdout",
     "output_type": "stream",
     "text": [
      "92\n",
      "88\n",
      "90\n"
     ]
    }
   ],
   "source": [
    "print(len(train))\n",
    "print(len(test))\n",
    "print(len(dev))"
   ]
  },
  {
   "cell_type": "code",
   "execution_count": 61,
   "metadata": {},
   "outputs": [],
   "source": [
    "zx = list(set(train + test + dev))"
   ]
  },
  {
   "cell_type": "code",
   "execution_count": 62,
   "metadata": {},
   "outputs": [
    {
     "name": "stdout",
     "output_type": "stream",
     "text": [
      "Ẩ\n",
      "Í\n",
      "Ì\n",
      ":\n",
      "Ọ\n",
      "Ị\n",
      "K\n",
      "Ủ\n",
      "Ỵ\n",
      "B\n",
      "Ờ\n",
      "Â\n",
      "Ậ\n",
      "Ũ\n",
      "Ó\n",
      "Ơ\n",
      "Õ\n",
      "Ẽ\n",
      "4\n",
      "Ả\n",
      "Ẫ\n",
      "Ố\n",
      "Ề\n",
      "O\n",
      "Ạ\n",
      "Ỷ\n",
      "È\n",
      "Ô\n",
      "Ò\n",
      "Ụ\n",
      "Đ\n",
      "Ỏ\n",
      "Ế\n",
      "Ằ\n",
      "P\n",
      "Ệ\n",
      "Ứ\n",
      "Ù\n",
      "Ỳ\n",
      "Ê\n",
      "Ồ\n",
      "Ú\n",
      "I\n",
      "Ổ\n",
      "Ể\n",
      "Ở\n",
      "Ỡ\n",
      "Ớ\n",
      "Ắ\n",
      "Ợ\n",
      "Á\n",
      "Ử\n",
      "L\n",
      "Ự\n",
      "Ỹ\n",
      "R\n",
      "Ễ\n",
      "À\n",
      "Y\n",
      "Ộ\n",
      "Ã\n",
      "N\n",
      "D\n",
      "Ỉ\n",
      "É\n",
      "U\n",
      "T\n",
      "Ừ\n",
      "C\n",
      "M\n",
      "Ữ\n",
      "Ẵ\n",
      "Ĩ\n",
      "Q\n",
      "Ư\n",
      "S\n",
      "Ẹ\n",
      "E\n",
      "Ỗ\n",
      "Ầ\n",
      "G\n",
      "Ă\n",
      "A\n",
      " \n",
      "Ẻ\n",
      "V\n",
      "X\n",
      "Ẳ\n",
      "Ấ\n",
      "Ý\n",
      "Ặ\n",
      "H\n"
     ]
    }
   ],
   "source": [
    "for x2 in zx:\n",
    "    print(x2)"
   ]
  },
  {
   "cell_type": "code",
   "execution_count": null,
   "metadata": {},
   "outputs": [],
   "source": []
  }
 ],
 "metadata": {
  "kernelspec": {
   "display_name": "Python 3",
   "language": "python",
   "name": "python3"
  },
  "language_info": {
   "codemirror_mode": {
    "name": "ipython",
    "version": 3
   },
   "file_extension": ".py",
   "mimetype": "text/x-python",
   "name": "python",
   "nbconvert_exporter": "python",
   "pygments_lexer": "ipython3",
   "version": "3.5.6"
  }
 },
 "nbformat": 4,
 "nbformat_minor": 2
}
